{
 "cells": [
  {
   "cell_type": "code",
   "execution_count": null,
   "metadata": {
    "ExecuteTime": {
     "end_time": "2022-08-24T18:14:17.245898Z",
     "start_time": "2022-08-24T18:14:15.074392Z"
    }
   },
   "outputs": [],
   "source": [
    "# Imports\n",
    "\n",
    "from sklearn.datasets import make_regression\n",
    "\n",
    "import statsmodels.api  as sm\n",
    "\n",
    "from sklearn.linear_model import LinearRegression\n",
    "\n",
    "from sklearn.metrics import mean_squared_error\n",
    "\n",
    "import matplotlib.pyplot as plt\n",
    "import seaborn as sns\n",
    "\n",
    "import pandas as pd"
   ]
  },
  {
   "cell_type": "markdown",
   "metadata": {},
   "source": [
    "## Make some Noise!"
   ]
  },
  {
   "cell_type": "code",
   "execution_count": null,
   "metadata": {
    "ExecuteTime": {
     "end_time": "2022-08-24T18:45:32.372887Z",
     "start_time": "2022-08-24T18:45:32.357389Z"
    },
    "scrolled": false
   },
   "outputs": [],
   "source": [
    "# Create the regression dataset\n",
    "X, y = make_regression(n_samples=1000, n_features=1, noise=12, random_state=42)\n",
    "\n",
    "# Reshape y to make it usable\n",
    "y = y.reshape(-1, 1)"
   ]
  },
  {
   "cell_type": "code",
   "execution_count": null,
   "metadata": {
    "ExecuteTime": {
     "end_time": "2022-08-24T18:45:32.698387Z",
     "start_time": "2022-08-24T18:45:32.687415Z"
    }
   },
   "outputs": [],
   "source": [
    "#create dataframe for easier manipulation\n",
    "\n",
    "data = pd.DataFrame(np.concatenate((X,y), axis=1), columns = ['X','y'])"
   ]
  },
  {
   "cell_type": "code",
   "execution_count": null,
   "metadata": {
    "ExecuteTime": {
     "end_time": "2022-08-24T18:45:33.829155Z",
     "start_time": "2022-08-24T18:45:33.117123Z"
    }
   },
   "outputs": [],
   "source": [
    "# Visualize\n",
    "\n",
    "fig, ax = plt.subplots(figsize=(10,10))\n",
    "\n",
    "plt.xkcd()\n",
    "ax.set_title('Simple Regression')\n",
    "sns.regplot(x='X', y='y', data=data, ax=ax, line_kws={\"color\": \"red\"});"
   ]
  },
  {
   "cell_type": "markdown",
   "metadata": {},
   "source": [
    "## [Statsmodels](https://www.statsmodels.org/stable/index.html) First\n",
    "\n",
    "`statsmodels` tends to be used more for inferential work."
   ]
  },
  {
   "cell_type": "markdown",
   "metadata": {},
   "source": [
    "[Endogenous? Exogenous?](https://www.statsmodels.org/stable/endog_exog.html)"
   ]
  },
  {
   "cell_type": "code",
   "execution_count": null,
   "metadata": {
    "ExecuteTime": {
     "end_time": "2022-08-24T18:45:43.217587Z",
     "start_time": "2022-08-24T18:45:43.208116Z"
    }
   },
   "outputs": [],
   "source": [
    "# Statsmodels First\n",
    "\n",
    "# Create endog and exog with constant\n",
    "endog = data['y']\n",
    "exog = sm.add_constant(data['X'])\n",
    "lin_reg_model = sm.OLS(endog, exog)"
   ]
  },
  {
   "cell_type": "code",
   "execution_count": null,
   "metadata": {
    "ExecuteTime": {
     "end_time": "2022-08-24T18:45:43.512087Z",
     "start_time": "2022-08-24T18:45:43.508616Z"
    }
   },
   "outputs": [],
   "source": [
    "# Fit and Summarize\n",
    "results  = lin_reg_model.fit()"
   ]
  },
  {
   "cell_type": "code",
   "execution_count": null,
   "metadata": {
    "ExecuteTime": {
     "end_time": "2022-08-24T18:45:44.363871Z",
     "start_time": "2022-08-24T18:45:44.339342Z"
    }
   },
   "outputs": [],
   "source": [
    "results.summary()"
   ]
  },
  {
   "cell_type": "markdown",
   "metadata": {},
   "source": [
    "### Woah. That's a lot of information!\n",
    "\n",
    "No worries! [Here's](https://medium.com/swlh/interpreting-linear-regression-through-statsmodels-summary-4796d359035a) a good breakdown of how to interpret it."
   ]
  },
  {
   "cell_type": "markdown",
   "metadata": {},
   "source": [
    "Remember the equation for a line?\n",
    "\n",
    "$y =  \\beta_1x_1 + \\beta_0$\n",
    "\n",
    "Based on our summary, our line of best fit is\n",
    "\n",
    "$y =  16.6x_1 + .05$"
   ]
  },
  {
   "cell_type": "markdown",
   "metadata": {},
   "source": [
    "### Double check things"
   ]
  },
  {
   "cell_type": "code",
   "execution_count": null,
   "metadata": {
    "ExecuteTime": {
     "end_time": "2022-08-24T18:49:44.455877Z",
     "start_time": "2022-08-24T18:49:44.448875Z"
    }
   },
   "outputs": [],
   "source": [
    "print(f'The intercept: {results.params[0]}')"
   ]
  },
  {
   "cell_type": "code",
   "execution_count": null,
   "metadata": {
    "ExecuteTime": {
     "end_time": "2022-08-24T18:49:44.933639Z",
     "start_time": "2022-08-24T18:49:44.916674Z"
    }
   },
   "outputs": [],
   "source": [
    "print(f'The beta_1 value: {results.params[1]}')"
   ]
  },
  {
   "cell_type": "code",
   "execution_count": null,
   "metadata": {
    "ExecuteTime": {
     "end_time": "2022-08-24T18:49:45.658417Z",
     "start_time": "2022-08-24T18:49:45.647419Z"
    }
   },
   "outputs": [],
   "source": [
    "data['prediction'] = data['X']*results.params[1] + results.params[0]"
   ]
  },
  {
   "cell_type": "code",
   "execution_count": null,
   "metadata": {
    "ExecuteTime": {
     "end_time": "2022-08-24T18:50:00.008978Z",
     "start_time": "2022-08-24T18:50:00.002980Z"
    }
   },
   "outputs": [],
   "source": [
    "data['residuals'] = data['y'] - data['prediction']"
   ]
  },
  {
   "cell_type": "code",
   "execution_count": null,
   "metadata": {
    "ExecuteTime": {
     "end_time": "2022-08-24T18:50:00.857997Z",
     "start_time": "2022-08-24T18:50:00.835497Z"
    }
   },
   "outputs": [],
   "source": [
    "data.head()"
   ]
  },
  {
   "cell_type": "markdown",
   "metadata": {},
   "source": [
    "### Metrics!"
   ]
  },
  {
   "cell_type": "markdown",
   "metadata": {},
   "source": [
    "Mean Squared Error:\n",
    "\n",
    "$ MSE = \\dfrac{1}{n}\\Sigma(y - \\hat y)^2$\n",
    "\n",
    "Root Mean Squared Error (in the same units as the target)\n",
    "\n",
    "$ RMSE = \\sqrt{\\dfrac{1}{n}\\Sigma(y - \\hat y)^2}$\n"
   ]
  },
  {
   "cell_type": "code",
   "execution_count": null,
   "metadata": {
    "ExecuteTime": {
     "end_time": "2022-08-24T18:35:31.240164Z",
     "start_time": "2022-08-24T18:35:31.223690Z"
    }
   },
   "outputs": [],
   "source": [
    "# First, by hand\n",
    "\n",
    "\n",
    "MSE = sum( data['residuals']**2)  / len(data)\n",
    "\n",
    "MSE"
   ]
  },
  {
   "cell_type": "code",
   "execution_count": null,
   "metadata": {
    "ExecuteTime": {
     "end_time": "2022-08-24T18:50:39.592712Z",
     "start_time": "2022-08-24T18:50:39.586213Z"
    }
   },
   "outputs": [],
   "source": [
    "RMSE = MSE**(1/2)\n",
    "\n",
    "RMSE"
   ]
  },
  {
   "cell_type": "code",
   "execution_count": null,
   "metadata": {
    "ExecuteTime": {
     "end_time": "2022-08-24T18:50:43.509188Z",
     "start_time": "2022-08-24T18:50:43.503718Z"
    }
   },
   "outputs": [],
   "source": [
    "# Of course there's a library for that!\n",
    "\n",
    "MSE_p = mean_squared_error(data['y'], data['prediction'])\n",
    "RMSE_p = mean_squared_error(data['y'], data['prediction'], squared=False) \n",
    "\n",
    "print(f'Mean Squared Error = {MSE_p:.2f} \\nRoot Mean Squared Error = {RMSE_p:.2f}')"
   ]
  },
  {
   "cell_type": "markdown",
   "metadata": {},
   "source": [
    "## [scikit-learn](https://scikit-learn.org/stable/)\n",
    "\n",
    "`sklearn` is set up for predictions!"
   ]
  },
  {
   "cell_type": "code",
   "execution_count": null,
   "metadata": {
    "ExecuteTime": {
     "end_time": "2022-08-24T18:50:45.190370Z",
     "start_time": "2022-08-24T18:50:45.180370Z"
    },
    "scrolled": false
   },
   "outputs": [],
   "source": [
    "# Instaniate the algorithm\n",
    "lr = LinearRegression()\n",
    "\n",
    "# Create our X and y\n",
    "\n",
    "X = data[['X']]\n",
    "y = data['y']\n",
    "\n",
    "# fit the data, creating the model\n",
    "lr.fit(X, y)"
   ]
  },
  {
   "cell_type": "code",
   "execution_count": null,
   "metadata": {
    "ExecuteTime": {
     "end_time": "2022-08-24T18:50:46.022639Z",
     "start_time": "2022-08-24T18:50:46.007668Z"
    }
   },
   "outputs": [],
   "source": [
    "# Coefficient\n",
    "lr.coef_"
   ]
  },
  {
   "cell_type": "code",
   "execution_count": null,
   "metadata": {
    "ExecuteTime": {
     "end_time": "2022-08-24T18:50:46.407982Z",
     "start_time": "2022-08-24T18:50:46.389951Z"
    }
   },
   "outputs": [],
   "source": [
    "# Intercept\n",
    "\n",
    "lr.intercept_"
   ]
  },
  {
   "cell_type": "code",
   "execution_count": null,
   "metadata": {
    "ExecuteTime": {
     "end_time": "2022-08-24T18:50:46.732691Z",
     "start_time": "2022-08-24T18:50:46.717005Z"
    }
   },
   "outputs": [],
   "source": [
    "# Predictions!\n",
    "\n",
    "data['y_pred'] = lr.predict(X)\n",
    "\n",
    "data['lr_diff'] = data['y'] - data['y_pred']"
   ]
  },
  {
   "cell_type": "code",
   "execution_count": null,
   "metadata": {
    "ExecuteTime": {
     "end_time": "2022-08-24T18:50:47.102123Z",
     "start_time": "2022-08-24T18:50:47.082622Z"
    }
   },
   "outputs": [],
   "source": [
    "data.head()"
   ]
  },
  {
   "cell_type": "code",
   "execution_count": null,
   "metadata": {
    "ExecuteTime": {
     "end_time": "2022-08-24T18:50:47.504102Z",
     "start_time": "2022-08-24T18:50:47.497131Z"
    }
   },
   "outputs": [],
   "source": [
    "lr.score(X,y)"
   ]
  },
  {
   "cell_type": "code",
   "execution_count": null,
   "metadata": {
    "ExecuteTime": {
     "end_time": "2022-08-24T18:50:47.949798Z",
     "start_time": "2022-08-24T18:50:47.933797Z"
    }
   },
   "outputs": [],
   "source": [
    "MSE_lr = mean_squared_error(y, data['y_pred'])\n",
    "RMSE_lr = mean_squared_error(y, data['y_pred'], squared=False) \n",
    "\n",
    "print(f'Mean Squared Error = {MSE_lr:.2f} \\nRoot Mean Squared Error = {RMSE_lr:.2f}')"
   ]
  },
  {
   "cell_type": "code",
   "execution_count": null,
   "metadata": {
    "ExecuteTime": {
     "end_time": "2022-08-24T18:50:49.724640Z",
     "start_time": "2022-08-24T18:50:49.215140Z"
    }
   },
   "outputs": [],
   "source": [
    "# Visualize\n",
    "\n",
    "fig, ax = plt.subplots(figsize=(10,10))\n",
    "\n",
    "plt.xkcd()\n",
    "ax.set_title('Simple Regression')\n",
    "sns.regplot(x='X', y='y', data=data, ax=ax, line_kws={\"color\": \"red\"});\n",
    "plt.plot(data['X'],data['y_pred'], 'g+', markersize=12)"
   ]
  },
  {
   "cell_type": "code",
   "execution_count": null,
   "metadata": {
    "ExecuteTime": {
     "end_time": "2022-08-24T18:50:53.026301Z",
     "start_time": "2022-08-24T18:50:53.011800Z"
    }
   },
   "outputs": [],
   "source": [
    "# New data?\n",
    "X_new = [[2]]\n",
    "y_new = [60]"
   ]
  },
  {
   "cell_type": "code",
   "execution_count": null,
   "metadata": {
    "ExecuteTime": {
     "end_time": "2022-08-24T18:50:54.210542Z",
     "start_time": "2022-08-24T18:50:54.198542Z"
    }
   },
   "outputs": [],
   "source": [
    "new_pred = lr.predict(X_new)"
   ]
  },
  {
   "cell_type": "code",
   "execution_count": null,
   "metadata": {
    "ExecuteTime": {
     "end_time": "2022-08-24T18:50:55.121585Z",
     "start_time": "2022-08-24T18:50:54.756584Z"
    }
   },
   "outputs": [],
   "source": [
    "fig, ax = plt.subplots(figsize=(10,10))\n",
    "\n",
    "plt.xkcd()\n",
    "ax.set_title('Simple Regression')\n",
    "sns.regplot(x='X', y='y', data=data, ax=ax, line_kws={\"color\": \"red\"});\n",
    "plt.plot(X_new, y_new, 'mx', markersize=20, label='Actual')\n",
    "plt.plot(X_new, new_pred, 'y*', markersize=20, label='Predicted')\n",
    "plt.legend();"
   ]
  },
  {
   "cell_type": "code",
   "execution_count": null,
   "metadata": {},
   "outputs": [],
   "source": []
  }
 ],
 "metadata": {
  "kernelspec": {
   "display_name": "learn-env",
   "language": "python",
   "name": "learn-env"
  },
  "language_info": {
   "codemirror_mode": {
    "name": "ipython",
    "version": 3
   },
   "file_extension": ".py",
   "mimetype": "text/x-python",
   "name": "python",
   "nbconvert_exporter": "python",
   "pygments_lexer": "ipython3",
   "version": "3.8.5"
  },
  "toc": {
   "base_numbering": 1,
   "nav_menu": {},
   "number_sections": true,
   "sideBar": true,
   "skip_h1_title": false,
   "title_cell": "Table of Contents",
   "title_sidebar": "Contents",
   "toc_cell": false,
   "toc_position": {},
   "toc_section_display": true,
   "toc_window_display": false
  },
  "varInspector": {
   "cols": {
    "lenName": 16,
    "lenType": 16,
    "lenVar": 40
   },
   "kernels_config": {
    "python": {
     "delete_cmd_postfix": "",
     "delete_cmd_prefix": "del ",
     "library": "var_list.py",
     "varRefreshCmd": "print(var_dic_list())"
    },
    "r": {
     "delete_cmd_postfix": ") ",
     "delete_cmd_prefix": "rm(",
     "library": "var_list.r",
     "varRefreshCmd": "cat(var_dic_list()) "
    }
   },
   "types_to_exclude": [
    "module",
    "function",
    "builtin_function_or_method",
    "instance",
    "_Feature"
   ],
   "window_display": false
  }
 },
 "nbformat": 4,
 "nbformat_minor": 4
}
