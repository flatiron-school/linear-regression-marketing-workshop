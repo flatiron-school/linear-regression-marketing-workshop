{
 "cells": [
  {
   "cell_type": "code",
   "execution_count": null,
   "metadata": {
    "ExecuteTime": {
     "end_time": "2022-08-22T17:46:41.433994Z",
     "start_time": "2022-08-22T17:46:41.428994Z"
    }
   },
   "outputs": [],
   "source": [
    "# Imports\n",
    "\n",
    "from sklearn.datasets import make_regression\n",
    "\n",
    "import statsmodels.api  as sm\n",
    "\n",
    "from sklearn.linear_model import LinearRegression\n",
    "\n",
    "from sklearn.metrics import mean_squared_error\n",
    "\n",
    "import matplotlib.pyplot as plt\n",
    "import seaborn as sns\n",
    "\n",
    "import pandas as pd"
   ]
  },
  {
   "cell_type": "markdown",
   "metadata": {},
   "source": [
    "## Make some Noise!"
   ]
  },
  {
   "cell_type": "code",
   "execution_count": null,
   "metadata": {
    "ExecuteTime": {
     "end_time": "2022-08-22T17:48:49.405358Z",
     "start_time": "2022-08-22T17:48:49.396884Z"
    },
    "scrolled": false
   },
   "outputs": [],
   "source": [
    "# Create the regression dataset\n",
    "X, y = make_regression(n_samples=1000, n_features=1, noise=12)\n",
    "\n",
    "# Reshape y to make it usable\n",
    "y = y.reshape(-1, 1)"
   ]
  },
  {
   "cell_type": "code",
   "execution_count": null,
   "metadata": {
    "ExecuteTime": {
     "end_time": "2022-08-22T17:48:49.961086Z",
     "start_time": "2022-08-22T17:48:49.949050Z"
    }
   },
   "outputs": [],
   "source": [
    "#create dataframe for easier manipulation\n",
    "\n",
    "data = pd.DataFrame(np.concatenate((X,y), axis=1), columns = ['X','y'])"
   ]
  },
  {
   "cell_type": "code",
   "execution_count": null,
   "metadata": {
    "ExecuteTime": {
     "end_time": "2022-08-22T17:48:50.965479Z",
     "start_time": "2022-08-22T17:48:50.670481Z"
    }
   },
   "outputs": [],
   "source": [
    "# Visualize\n",
    "\n",
    "fig, ax = plt.subplots(figsize=(10,10))\n",
    "\n",
    "plt.xkcd()\n",
    "ax.set_title('Simple Regression')\n",
    "sns.regplot(x='X', y='y', data=data, ax=ax, line_kws={\"color\": \"red\"});"
   ]
  },
  {
   "cell_type": "markdown",
   "metadata": {},
   "source": [
    "## [Statsmodels](https://www.statsmodels.org/stable/index.html) First\n",
    "\n",
    "`statsmodels` tends to be used more for inferential work."
   ]
  },
  {
   "cell_type": "code",
   "execution_count": null,
   "metadata": {
    "ExecuteTime": {
     "end_time": "2022-08-22T17:48:55.018943Z",
     "start_time": "2022-08-22T17:48:55.002322Z"
    }
   },
   "outputs": [],
   "source": [
    "# Statsmodels First\n",
    "\n",
    "# Create endog and exog with constant\n",
    "endog = data['y']\n",
    "exog = sm.add_constant(data['X'])\n",
    "lin_reg_model = sm.OLS(endog, exog)"
   ]
  },
  {
   "cell_type": "code",
   "execution_count": null,
   "metadata": {
    "ExecuteTime": {
     "end_time": "2022-08-22T17:48:55.910517Z",
     "start_time": "2022-08-22T17:48:55.900519Z"
    }
   },
   "outputs": [],
   "source": [
    "# Fit and Summarize\n",
    "results  = lin_reg_model.fit()"
   ]
  },
  {
   "cell_type": "code",
   "execution_count": null,
   "metadata": {
    "ExecuteTime": {
     "end_time": "2022-08-22T17:48:57.129028Z",
     "start_time": "2022-08-22T17:48:57.102998Z"
    }
   },
   "outputs": [],
   "source": [
    "results.summary()"
   ]
  },
  {
   "cell_type": "markdown",
   "metadata": {},
   "source": [
    "Remember the equation for a line?\n",
    "\n",
    "$y =  \\beta_1x_1 + \\beta_0$.\n",
    "\n",
    "Based on our summary, our line of best fit is\n",
    "\n",
    "$y =  25.2x_1 -0.03$."
   ]
  },
  {
   "cell_type": "markdown",
   "metadata": {},
   "source": [
    "### Double check things"
   ]
  },
  {
   "cell_type": "code",
   "execution_count": null,
   "metadata": {
    "ExecuteTime": {
     "end_time": "2022-08-22T17:49:22.940772Z",
     "start_time": "2022-08-22T17:49:22.932244Z"
    }
   },
   "outputs": [],
   "source": [
    "data['prediction'] = data['X']*results.params[1] + results.params[0]"
   ]
  },
  {
   "cell_type": "code",
   "execution_count": null,
   "metadata": {
    "ExecuteTime": {
     "end_time": "2022-08-22T17:49:23.463685Z",
     "start_time": "2022-08-22T17:49:23.453686Z"
    }
   },
   "outputs": [],
   "source": [
    "data['difference'] = data['y'] - data['prediction']"
   ]
  },
  {
   "cell_type": "code",
   "execution_count": null,
   "metadata": {
    "ExecuteTime": {
     "end_time": "2022-08-22T17:49:24.541936Z",
     "start_time": "2022-08-22T17:49:24.531837Z"
    }
   },
   "outputs": [],
   "source": [
    "data.head()"
   ]
  },
  {
   "cell_type": "markdown",
   "metadata": {},
   "source": [
    "### Metrics!"
   ]
  },
  {
   "cell_type": "code",
   "execution_count": null,
   "metadata": {
    "ExecuteTime": {
     "end_time": "2022-08-22T17:49:26.347189Z",
     "start_time": "2022-08-22T17:49:26.337198Z"
    }
   },
   "outputs": [],
   "source": [
    "# First, by hand\n",
    "\n",
    "MSE = sum(data['difference']**2) / len(data)\n",
    "\n",
    "MSE"
   ]
  },
  {
   "cell_type": "code",
   "execution_count": null,
   "metadata": {
    "ExecuteTime": {
     "end_time": "2022-08-22T17:49:28.518430Z",
     "start_time": "2022-08-22T17:49:28.502931Z"
    }
   },
   "outputs": [],
   "source": [
    "RMSE = MSE**(1/2)\n",
    "\n",
    "RMSE"
   ]
  },
  {
   "cell_type": "code",
   "execution_count": null,
   "metadata": {
    "ExecuteTime": {
     "end_time": "2022-08-22T17:49:30.644863Z",
     "start_time": "2022-08-22T17:49:30.628844Z"
    }
   },
   "outputs": [],
   "source": [
    "# Of course there's a library for that!\n",
    "\n",
    "MSE_p = mean_squared_error(data['y'], data['prediction'])\n",
    "RMSE_p = mean_squared_error(data['y'], data['prediction'], squared=False) \n",
    "\n",
    "print(f'Mean Squared Error = {MSE_p:.2f} \\nRoot Mean Squared Error = {RMSE_p:.2f}')"
   ]
  },
  {
   "cell_type": "markdown",
   "metadata": {},
   "source": [
    "## [scikit-learn](https://scikit-learn.org/stable/)\n",
    "\n",
    "`sklearn` is set up for predictions!"
   ]
  },
  {
   "cell_type": "code",
   "execution_count": null,
   "metadata": {
    "ExecuteTime": {
     "end_time": "2022-08-22T17:49:32.617552Z",
     "start_time": "2022-08-22T17:49:32.596052Z"
    },
    "scrolled": false
   },
   "outputs": [],
   "source": [
    "# Instaniate the algorithm\n",
    "lr = LinearRegression()\n",
    "\n",
    "# Create our X and y\n",
    "\n",
    "X = data[['X']]\n",
    "y = data['y']\n",
    "\n",
    "# fit the data, creating the model\n",
    "lr.fit(X, y)"
   ]
  },
  {
   "cell_type": "code",
   "execution_count": null,
   "metadata": {
    "ExecuteTime": {
     "end_time": "2022-08-22T17:49:33.204861Z",
     "start_time": "2022-08-22T17:49:33.189361Z"
    }
   },
   "outputs": [],
   "source": [
    "# Coefficient\n",
    "lr.coef_"
   ]
  },
  {
   "cell_type": "code",
   "execution_count": null,
   "metadata": {
    "ExecuteTime": {
     "end_time": "2022-08-22T17:49:35.004827Z",
     "start_time": "2022-08-22T17:49:34.992797Z"
    }
   },
   "outputs": [],
   "source": [
    "# Intercept\n",
    "\n",
    "lr.intercept_"
   ]
  },
  {
   "cell_type": "code",
   "execution_count": null,
   "metadata": {
    "ExecuteTime": {
     "end_time": "2022-08-22T17:49:36.361693Z",
     "start_time": "2022-08-22T17:49:36.344303Z"
    }
   },
   "outputs": [],
   "source": [
    "# Predictions!\n",
    "\n",
    "data['y_pred'] = lr.predict(X)\n",
    "\n",
    "data['lr_diff'] = data['y'] - data['y_pred']"
   ]
  },
  {
   "cell_type": "code",
   "execution_count": null,
   "metadata": {
    "ExecuteTime": {
     "end_time": "2022-08-22T17:49:39.859286Z",
     "start_time": "2022-08-22T17:49:39.837785Z"
    }
   },
   "outputs": [],
   "source": [
    "data.head()"
   ]
  },
  {
   "cell_type": "code",
   "execution_count": null,
   "metadata": {
    "ExecuteTime": {
     "end_time": "2022-08-22T17:49:42.336648Z",
     "start_time": "2022-08-22T17:49:42.317148Z"
    }
   },
   "outputs": [],
   "source": [
    "lr.score(X,y)"
   ]
  },
  {
   "cell_type": "code",
   "execution_count": null,
   "metadata": {
    "ExecuteTime": {
     "end_time": "2022-08-22T17:49:44.801287Z",
     "start_time": "2022-08-22T17:49:44.786288Z"
    }
   },
   "outputs": [],
   "source": [
    "MSE_lr = mean_squared_error(y, data['y_pred'])\n",
    "RMSE_lr = mean_squared_error(y, data['y_pred'], squared=False) \n",
    "\n",
    "print(f'Mean Squared Error = {MSE_lr:.2f} \\nRoot Mean Squared Error = {RMSE_lr:.2f}')"
   ]
  },
  {
   "cell_type": "code",
   "execution_count": null,
   "metadata": {
    "ExecuteTime": {
     "end_time": "2022-08-22T17:49:46.376596Z",
     "start_time": "2022-08-22T17:49:45.879566Z"
    }
   },
   "outputs": [],
   "source": [
    "# Visualize\n",
    "\n",
    "fig, ax = plt.subplots(figsize=(10,10))\n",
    "\n",
    "plt.xkcd()\n",
    "ax.set_title('Simple Regression')\n",
    "sns.regplot(x='X', y='y', data=data, ax=ax, line_kws={\"color\": \"red\"});\n",
    "plt.plot(data['X'],data['y_pred'], 'g+', markersize=12)"
   ]
  },
  {
   "cell_type": "code",
   "execution_count": null,
   "metadata": {
    "ExecuteTime": {
     "end_time": "2022-08-22T17:50:18.973106Z",
     "start_time": "2022-08-22T17:50:18.959616Z"
    }
   },
   "outputs": [],
   "source": [
    "# New data?\n",
    "X_new = [[2]]\n",
    "y_new = [60]"
   ]
  },
  {
   "cell_type": "code",
   "execution_count": null,
   "metadata": {
    "ExecuteTime": {
     "end_time": "2022-08-22T17:50:19.327225Z",
     "start_time": "2022-08-22T17:50:19.324225Z"
    }
   },
   "outputs": [],
   "source": [
    "new_pred = lr.predict(X_new)"
   ]
  },
  {
   "cell_type": "code",
   "execution_count": null,
   "metadata": {
    "ExecuteTime": {
     "end_time": "2022-08-22T17:50:20.054923Z",
     "start_time": "2022-08-22T17:50:19.722426Z"
    }
   },
   "outputs": [],
   "source": [
    "fig, ax = plt.subplots(figsize=(10,10))\n",
    "\n",
    "plt.xkcd()\n",
    "ax.set_title('Simple Regression')\n",
    "sns.regplot(x='X', y='y', data=data, ax=ax, line_kws={\"color\": \"red\"});\n",
    "plt.plot(X_new, y_new, 'mx', markersize=20, label='Actual')\n",
    "plt.plot(X_new, new_pred, 'y*', markersize=20, label='Predicted')\n",
    "plt.legend();"
   ]
  }
 ],
 "metadata": {
  "kernelspec": {
   "display_name": "learn-env",
   "language": "python",
   "name": "learn-env"
  },
  "language_info": {
   "codemirror_mode": {
    "name": "ipython",
    "version": 3
   },
   "file_extension": ".py",
   "mimetype": "text/x-python",
   "name": "python",
   "nbconvert_exporter": "python",
   "pygments_lexer": "ipython3",
   "version": "3.8.5"
  },
  "toc": {
   "base_numbering": 1,
   "nav_menu": {},
   "number_sections": true,
   "sideBar": true,
   "skip_h1_title": false,
   "title_cell": "Table of Contents",
   "title_sidebar": "Contents",
   "toc_cell": false,
   "toc_position": {},
   "toc_section_display": true,
   "toc_window_display": false
  },
  "varInspector": {
   "cols": {
    "lenName": 16,
    "lenType": 16,
    "lenVar": 40
   },
   "kernels_config": {
    "python": {
     "delete_cmd_postfix": "",
     "delete_cmd_prefix": "del ",
     "library": "var_list.py",
     "varRefreshCmd": "print(var_dic_list())"
    },
    "r": {
     "delete_cmd_postfix": ") ",
     "delete_cmd_prefix": "rm(",
     "library": "var_list.r",
     "varRefreshCmd": "cat(var_dic_list()) "
    }
   },
   "types_to_exclude": [
    "module",
    "function",
    "builtin_function_or_method",
    "instance",
    "_Feature"
   ],
   "window_display": false
  }
 },
 "nbformat": 4,
 "nbformat_minor": 4
}
